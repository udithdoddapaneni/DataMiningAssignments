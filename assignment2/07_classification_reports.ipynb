{
 "cells": [
  {
   "cell_type": "markdown",
   "metadata": {},
   "source": [
    "# Task 7: Model Performance Reports (15 points)\n",
    "\n",
    "In the final task, you will create some reports for the performance of the classifier. \n",
    "\n",
    "You will implement this in the file `code/model_reports.py` and `model_report_template.jinja2`. This function will output a file `output.html` that you can compare it the file `resources/sample_model_report.html`.\n",
    "\n",
    "You can generate the report using the command \n",
    "\n",
    "> rye run ml_report"
   ]
  },
  {
   "cell_type": "markdown",
   "metadata": {},
   "source": [
    "Often, it is necessary to automatically generate some reports. These could be some tables about the performance or some charts. It is a pain to create them manually every time. So, we will automate them using `templates`. Templates are a mechanism in Python to allow some customization. You write some Python code to specify how to process some Python object and the template engine takes care of rendering them.\n",
    "\n",
    "While there are many templating engines, we will focus on [Jinja2](https://jinja.palletsprojects.com). This is a classic and very powerful library that is used by many companies to generate reports. \n",
    "\n",
    "I have written most of the business logic in `model_reports.py`. So you can focus on writing the template at `model_report_template.jinja2`. I have written some code in the template for basic styling. So you can focus on the rendering logic. \n",
    "\n",
    "\n",
    "**Task Description:**\n",
    "In this task, your template will accept a list of information related to a classifier performance (more details below). You will use it to create a report. Each report will have a section for each classifier (e.g. DT, KNN, NB etc). For each classifier, you will first create a table containing classification report.  Second, you will output the ROC curve. \n",
    "\n",
    "A sample output can be found in `sample_output.html`\n",
    "\n",
    "\n",
    "**Implementation Details:**\n",
    "\n",
    "1. The template engine will get a variable `classifiers` that is an array of dictionaries. \n",
    "\n",
    "2. Each dictionary will contain three keys: `classifier_name`, `classification_report`, `fpr_tpr`.\n",
    "\n",
    "3. `classifier_name` is a simple string and should have values DecisionTree, KNN, NaiveBayes etc.\n",
    "\n",
    "4. `classification_report` contains the output of scikit-learn's `classification_report` as a dictionary. \n",
    "\n",
    "5. `fpr_tpr` is a list of dictionary of the format [{x: x1, y:y1}, {x:x2, y:y2}]. This should make your life easy when creating the chart.\n",
    "\n",
    "6. You will view the code of sample_model_report.html to get some ideas about the structure.\n",
    "\n",
    "7. You will need to loop over all the classifier variables and generate a table and chart. I have put them in separate blocks with scoped variables (so all the variables from outer scope is accessible inside the inner scope). \n",
    "\n",
    "8. You will use [Chart.js](https://www.chartjs.org/) to generate the chart. This is a lightweight and powerful JS library.\n",
    "\n",
    "9. A tricky thing is to ensure that you create separate chart elements for each chart. For example, the sample output has three chart elements for DT, KNN and NB. So, you need a way to create a div with unique id and also unique chart context name. The simplest approach is to append the name of the classifier (which is guaranteed to be unique). So you name the div as myChart-DT, chart as ctx_DT etc. \n",
    "\n",
    "10. You can use Chart.js' scatter plot to generate the ROC curve. You need to be aware of two tricks. First, you can pass the fpr_tpr Python variable to Javascript using `tojson` filter. Second, you need to use `showLine: true` parameter of the chart so that you can convert the traditional scatter plot into a line chart. \n",
    "\n",
    "11. Reverse engineering the sample output html file is not a bad idea :) "
   ]
  }
 ],
 "metadata": {
  "kernelspec": {
   "display_name": ".venv",
   "language": "python",
   "name": "python3"
  },
  "language_info": {
   "codemirror_mode": {
    "name": "ipython",
    "version": 3
   },
   "file_extension": ".py",
   "mimetype": "text/x-python",
   "name": "python",
   "nbconvert_exporter": "python",
   "pygments_lexer": "ipython3",
   "version": "3.12.4"
  }
 },
 "nbformat": 4,
 "nbformat_minor": 2
}
