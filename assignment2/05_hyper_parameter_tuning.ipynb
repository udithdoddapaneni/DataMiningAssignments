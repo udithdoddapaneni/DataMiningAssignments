{
 "cells": [
  {
   "cell_type": "markdown",
   "metadata": {},
   "source": [
    "# Task 5: Hyper Parameter Tuning (10 points)\n",
    "\n",
    "In this task, you will evaluate four classical hyper parameter tuning algorithms. The code for this assignment is in the file `hp_configs.py`.\n",
    "\n",
    "This is a relatively easy task. All you need to do is implement the function `create_hyperparameter_tuner` in both the classes `GridSearchConfig` and `RandomizedSearchConfig`. The vast majority of the business logic is written by me. So you can take a look at how hyper parameter tuning impacts the classifier. \n",
    "\n",
    "You can use the command `rye run hp_tuning` to run the code. \n",
    "\n",
    "You can test the code using \n",
    "\n",
    "> rye test -- -m t5_hp_tuner\n"
   ]
  }
 ],
 "metadata": {
  "kernelspec": {
   "display_name": ".venv",
   "language": "python",
   "name": "python3"
  },
  "language_info": {
   "codemirror_mode": {
    "name": "ipython",
    "version": 3
   },
   "file_extension": ".py",
   "mimetype": "text/x-python",
   "name": "python",
   "nbconvert_exporter": "python",
   "pygments_lexer": "ipython3",
   "version": "3.12.4"
  }
 },
 "nbformat": 4,
 "nbformat_minor": 2
}
