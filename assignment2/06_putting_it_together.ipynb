{
 "cells": [
  {
   "cell_type": "markdown",
   "metadata": {},
   "source": [
    "# Task 6: Putting It All Together (10 points)\n",
    "\n",
    "In this task, you will create a simple code that implements a modern ML pipeline. Each of these functions should be 3-4 lines of code.\n",
    "\n",
    "You will implement this in the file `code/modern_ml_pipeline.py'. You can test it using the command\n",
    "\n",
    "> rye test -- -m t6_ml_pipeline\n",
    "\n",
    "This is a relatively simple task due to scikit-learn that internally does many of these things automatically.\n",
    "\n",
    "1. `step_1`: In this function, you have to load the data (using dataset_config), create the classifier and fit it on dataset_config.train_X\n",
    "\n",
    "2. `step_2_3_4`: In this function, you will create a hyper parameter tuned classifier using the create_hyperparameter_tuner function. Then you will fit it with dataset_config.train_and_validation_X.\n",
    "\n",
    "3. `step_5`: You will create a fresh ml model and use it to estimate the production error. We will use the algorithm ErrorEstimationAlgos.TRAIN_VAL. \n",
    "\n",
    "4. `step_6`: For convenience, you will assign step6_classifier as the same as step2_classifier. Then you will train it on the entire data dataset_config.train_val_test_X. \n"
   ]
  }
 ],
 "metadata": {
  "kernelspec": {
   "display_name": ".venv",
   "language": "python",
   "name": "python3"
  },
  "language_info": {
   "codemirror_mode": {
    "name": "ipython",
    "version": 3
   },
   "file_extension": ".py",
   "mimetype": "text/x-python",
   "name": "python",
   "nbconvert_exporter": "python",
   "pygments_lexer": "ipython3",
   "version": "3.12.4"
  }
 },
 "nbformat": 4,
 "nbformat_minor": 2
}
