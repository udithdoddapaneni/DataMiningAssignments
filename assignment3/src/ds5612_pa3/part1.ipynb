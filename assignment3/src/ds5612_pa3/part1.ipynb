{
 "cells": [
  {
   "cell_type": "code",
   "execution_count": 1,
   "metadata": {},
   "outputs": [
    {
     "name": "stderr",
     "output_type": "stream",
     "text": [
      "2024-11-05 23:41:08.097564: E external/local_xla/xla/stream_executor/cuda/cuda_fft.cc:477] Unable to register cuFFT factory: Attempting to register factory for plugin cuFFT when one has already been registered\n",
      "WARNING: All log messages before absl::InitializeLog() is called are written to STDERR\n",
      "E0000 00:00:1730830268.110318   17852 cuda_dnn.cc:8310] Unable to register cuDNN factory: Attempting to register factory for plugin cuDNN when one has already been registered\n",
      "E0000 00:00:1730830268.113905   17852 cuda_blas.cc:1418] Unable to register cuBLAS factory: Attempting to register factory for plugin cuBLAS when one has already been registered\n",
      "2024-11-05 23:41:08.127513: I tensorflow/core/platform/cpu_feature_guard.cc:210] This TensorFlow binary is optimized to use available CPU instructions in performance-critical operations.\n",
      "To enable the following instructions: AVX2 FMA, in other operations, rebuild TensorFlow with the appropriate compiler flags.\n"
     ]
    },
    {
     "data": {
      "text/html": [
       "<style>.container { width:100% !important; }</style>"
      ],
      "text/plain": [
       "<IPython.core.display.HTML object>"
      ]
     },
     "metadata": {},
     "output_type": "display_data"
    },
    {
     "data": {
      "application/vnd.jupyter.widget-view+json": {
       "model_id": "1507a71e78374378b0f87c827cedbc9c",
       "version_major": 2,
       "version_minor": 0
      },
      "text/plain": [
       "WitWidget(config={'model_type': 'classification', 'label_vocab': [], 'uses_json_input': True, 'inference_addre…"
      ]
     },
     "execution_count": 1,
     "metadata": {},
     "output_type": "execute_result"
    }
   ],
   "source": [
    "import os\n",
    "import numpy as np\n",
    "import pandas as pd\n",
    "from sklearn.model_selection import train_test_split\n",
    "from sklearn.ensemble import RandomForestClassifier\n",
    "import tensorflow as tf\n",
    "from witwidget.notebook.visualization import WitWidget, WitConfigBuilder\n",
    "from sklearn.preprocessing import LabelEncoder\n",
    "\n",
    "# Force CPU usage for TensorFlow\n",
    "os.environ[\"CUDA_VISIBLE_DEVICES\"] = \"-1\"\n",
    "tf.get_logger().setLevel('ERROR')\n",
    "\n",
    "# Load the compas dataset\n",
    "dataset = pd.read_csv(\"compas-scores-two-years.csv\")\n",
    "\n",
    "encoders = {}\n",
    "for col in dataset.columns:\n",
    "    if dataset[col].dtype == 'object':\n",
    "        encoder = LabelEncoder()\n",
    "        dataset[col] = encoder.fit_transform(dataset[col])\n",
    "\n",
    "X = dataset.drop(columns=[\"two_year_recid\"])\n",
    "y = dataset[\"two_year_recid\"]\n",
    "\n",
    "# dropping names and ids\n",
    "X.drop(columns=[\"id\", \"name\", \"first\", \"last\"], inplace=True)\n",
    "\n",
    "# Split the data into train and test sets\n",
    "X_train, X_test, y_train, y_test = train_test_split(X, y, test_size=0.2, random_state=42)\n",
    "\n",
    "\n",
    "\n",
    "# Train a simple RandomForest model\n",
    "model = RandomForestClassifier()\n",
    "model.fit(X_train, y_train)\n",
    "\n",
    "# Define a simple TensorFlow model wrapper for WIT\n",
    "class SimpleModelWrapper(tf.Module):\n",
    "    def __init__(self, sklearn_model):\n",
    "        self.sklearn_model = sklearn_model\n",
    "\n",
    "    def __call__(self, features):\n",
    "        predictions = self.sklearn_model.predict_proba(features)\n",
    "        return tf.convert_to_tensor(predictions)\n",
    "\n",
    "wrapped_model = SimpleModelWrapper(model)\n",
    "\n",
    "examples = [{\n",
    "    col: X_test[col][i] for col in X_test.columns\n",
    "} for i in X_test.index]\n",
    "\n",
    "config_builder = WitConfigBuilder(examples).set_custom_predict_fn(wrapped_model)\n",
    "\n",
    "widget = WitWidget(config_builder)\n",
    "\n",
    "widget.render()"
   ]
  }
 ],
 "metadata": {
  "kernelspec": {
   "display_name": ".venv",
   "language": "python",
   "name": "python3"
  },
  "language_info": {
   "codemirror_mode": {
    "name": "ipython",
    "version": 3
   },
   "file_extension": ".py",
   "mimetype": "text/x-python",
   "name": "python",
   "nbconvert_exporter": "python",
   "pygments_lexer": "ipython3",
   "version": "3.10.12"
  }
 },
 "nbformat": 4,
 "nbformat_minor": 2
}
