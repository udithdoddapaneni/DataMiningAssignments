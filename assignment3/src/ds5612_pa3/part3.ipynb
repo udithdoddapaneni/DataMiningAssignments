{
 "cells": [
  {
   "cell_type": "code",
   "execution_count": 1,
   "metadata": {},
   "outputs": [
    {
     "name": "stderr",
     "output_type": "stream",
     "text": [
      "WARNING:root:Missing Data: 5 rows removed from CompasDataset.\n"
     ]
    }
   ],
   "source": [
    "from aif360.datasets import StandardDataset\n",
    "import pandas as pd\n",
    "import os\n",
    "from warnings import filterwarnings\n",
    "\n",
    "filterwarnings(\"ignore\")\n",
    "\n",
    "\n",
    "#### dataset is not there in \n",
    "default_mappings = {\n",
    "    'label_maps': [{1.0: 'Did recid.', 0.0: 'No recid.'}],\n",
    "    'protected_attribute_maps': [{0.0: 'Male', 1.0: 'Female'},\n",
    "                                {1.0: 'Caucasian', 0.0: 'Not Caucasian'}]\n",
    "}\n",
    "\n",
    "def default_preprocessing(df):\n",
    "    \"\"\"Perform the same preprocessing as the original analysis:\n",
    "    https://github.com/propublica/compas-analysis/blob/master/Compas%20Analysis.ipynb\n",
    "    \"\"\"\n",
    "    return df[(df.days_b_screening_arrest <= 30)\n",
    "            & (df.days_b_screening_arrest >= -30)\n",
    "            & (df.is_recid != -1)\n",
    "            & (df.c_charge_degree != 'O')\n",
    "            & (df.score_text != 'N/A')]\n",
    "\n",
    "class CompasDataset(StandardDataset):\n",
    "    \"\"\"ProPublica COMPAS Dataset.\n",
    "\n",
    "    See :file:`aif360/data/raw/compas/README.md`.\n",
    "    \"\"\"\n",
    "\n",
    "    def __init__(self, label_name='two_year_recid', favorable_classes=[0],\n",
    "                 protected_attribute_names=['sex', 'race'],\n",
    "                 privileged_classes=[['Female'], ['Caucasian']],\n",
    "                 instance_weights_name=None,\n",
    "                 categorical_features=['age_cat', 'c_charge_degree',\n",
    "                     'c_charge_desc'],\n",
    "                 features_to_keep=['sex', 'age', 'age_cat', 'race',\n",
    "                     'juv_fel_count', 'juv_misd_count', 'juv_other_count',\n",
    "                     'priors_count', 'c_charge_degree', 'c_charge_desc',\n",
    "                     'two_year_recid'],\n",
    "                 features_to_drop=[], na_values=[],\n",
    "                 custom_preprocessing=default_preprocessing,\n",
    "                 metadata=default_mappings):\n",
    "        \"\"\"See :obj:`StandardDataset` for a description of the arguments.\n",
    "\n",
    "        Note: The label value 0 in this case is considered favorable (no\n",
    "        recidivism).\n",
    "\n",
    "        Examples:\n",
    "            In some cases, it may be useful to keep track of a mapping from\n",
    "            `float -> str` for protected attributes and/or labels. If our use\n",
    "            case differs from the default, we can modify the mapping stored in\n",
    "            `metadata`:\n",
    "\n",
    "            >>> label_map = {1.0: 'Did recid.', 0.0: 'No recid.'}\n",
    "            >>> protected_attribute_maps = [{1.0: 'Male', 0.0: 'Female'}]\n",
    "            >>> cd = CompasDataset(protected_attribute_names=['sex'],\n",
    "            ... privileged_classes=[['Male']], metadata={'label_map': label_map,\n",
    "            ... 'protected_attribute_maps': protected_attribute_maps})\n",
    "\n",
    "            Now this information will stay attached to the dataset and can be\n",
    "            used for more descriptive visualizations.\n",
    "        \"\"\"\n",
    "\n",
    "        filepath = \"compas-scores-two-years.csv\"\n",
    "\n",
    "        try:\n",
    "            df = pd.read_csv(filepath, index_col='id', na_values=na_values)\n",
    "        except IOError as err:\n",
    "            print(\"IOError: {}\".format(err))\n",
    "            print(\"To use this class, please download the following file:\")\n",
    "            print(\"\\n\\thttps://raw.githubusercontent.com/propublica/compas-analysis/master/compas-scores-two-years.csv\")\n",
    "            print(\"\\nand place it, as-is, in the folder:\")\n",
    "            print(\"\\n\\t{}\\n\".format(os.path.abspath(os.path.join(\n",
    "               os.path.abspath(__file__), '..', '..', 'data', 'raw', 'compas'))))\n",
    "            import sys\n",
    "            sys.exit(1)\n",
    "\n",
    "        super(CompasDataset, self).__init__(df=df, label_name=label_name,\n",
    "            favorable_classes=favorable_classes,\n",
    "            protected_attribute_names=protected_attribute_names,\n",
    "            privileged_classes=privileged_classes,\n",
    "            instance_weights_name=instance_weights_name,\n",
    "            categorical_features=categorical_features,\n",
    "            features_to_keep=features_to_keep,\n",
    "            features_to_drop=features_to_drop, na_values=na_values,\n",
    "            custom_preprocessing=custom_preprocessing, metadata=metadata)\n",
    "        \n",
    "dataset = CompasDataset()"
   ]
  },
  {
   "cell_type": "code",
   "execution_count": 2,
   "metadata": {},
   "outputs": [],
   "source": [
    "from sklearn.ensemble import RandomForestClassifier\n",
    "from copy import deepcopy\n",
    "\n",
    "model = RandomForestClassifier()\n",
    "model.fit(dataset.features, dataset.labels)\n",
    "y_pred = model.predict(dataset.features)\n",
    "classified_dataset = deepcopy(dataset)\n",
    "classified_dataset.labels = y_pred"
   ]
  },
  {
   "cell_type": "code",
   "execution_count": 3,
   "metadata": {},
   "outputs": [
    {
     "name": "stderr",
     "output_type": "stream",
     "text": [
      "2024-11-05 22:57:32.568002: E external/local_xla/xla/stream_executor/cuda/cuda_fft.cc:477] Unable to register cuFFT factory: Attempting to register factory for plugin cuFFT when one has already been registered\n",
      "WARNING: All log messages before absl::InitializeLog() is called are written to STDERR\n",
      "E0000 00:00:1730827652.578222   11553 cuda_dnn.cc:8310] Unable to register cuDNN factory: Attempting to register factory for plugin cuDNN when one has already been registered\n",
      "E0000 00:00:1730827652.582122   11553 cuda_blas.cc:1418] Unable to register cuBLAS factory: Attempting to register factory for plugin cuBLAS when one has already been registered\n",
      "2024-11-05 22:57:32.596553: I tensorflow/core/platform/cpu_feature_guard.cc:210] This TensorFlow binary is optimized to use available CPU instructions in performance-critical operations.\n",
      "To enable the following instructions: AVX2 FMA, in other operations, rebuild TensorFlow with the appropriate compiler flags.\n",
      "WARNING:root:No module named 'inFairness': SenSeI and SenSR will be unavailable. To install, run:\n",
      "pip install 'aif360[inFairness]'\n"
     ]
    },
    {
     "name": "stdout",
     "output_type": "stream",
     "text": [
      "Statistical parity difference: -0.0934464388164904\n",
      "Disparate impact: 0.8483481286594824\n",
      "Equal opportunity difference: -0.02086944745395458\n",
      "Average odds difference: -0.004822820565674568\n"
     ]
    }
   ],
   "source": [
    "from aif360.metrics import ClassificationMetric\n",
    "\n",
    "metric = ClassificationMetric(dataset, classified_dataset, privileged_groups=[{'race': 1}], unprivileged_groups=[{'race': 0}])\n",
    "\n",
    "# Print various fairness metrics\n",
    "print(\"Statistical parity difference:\", metric.statistical_parity_difference())\n",
    "print(\"Disparate impact:\", metric.disparate_impact())\n",
    "print(\"Equal opportunity difference:\", metric.equal_opportunity_difference())\n",
    "print(\"Average odds difference:\", metric.average_odds_difference())\n"
   ]
  }
 ],
 "metadata": {
  "kernelspec": {
   "display_name": ".venv",
   "language": "python",
   "name": "python3"
  },
  "language_info": {
   "codemirror_mode": {
    "name": "ipython",
    "version": 3
   },
   "file_extension": ".py",
   "mimetype": "text/x-python",
   "name": "python",
   "nbconvert_exporter": "python",
   "pygments_lexer": "ipython3",
   "version": "3.10.12"
  }
 },
 "nbformat": 4,
 "nbformat_minor": 2
}
