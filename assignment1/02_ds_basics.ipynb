{
 "cells": [
  {
   "cell_type": "markdown",
   "metadata": {},
   "source": [
    "# Cool Python DS Libraries - Part 1 (20 points)\n",
    "\n",
    "In this notebook, we will do some basic tasks to ensure that your environment works fine and you learn some of the most common tools and techniques that we will use in this and future assignments."
   ]
  },
  {
   "cell_type": "code",
   "execution_count": 2,
   "metadata": {},
   "outputs": [],
   "source": [
    "# These two lines ensure that all modules are reloaded every time a Python cell is executed.\n",
    "# This allows us to modify some other Python file and immediately see the results\n",
    "# instead of restarting the kernel and running every cell. \n",
    "%load_ext autoreload\n",
    "%autoreload 2"
   ]
  },
  {
   "cell_type": "code",
   "execution_count": 3,
   "metadata": {},
   "outputs": [],
   "source": [
    "# Import some of the relevant libraries here and use them elsewhere.\n",
    "# Note that you cannot use arbitrary Python packages.\n",
    "# During grading, TAs will replace your pyproject.toml with the a different one.\n",
    "# So if you use some custom libraries, it will not be available during grading time.\n",
    "\n",
    "import random\n",
    "import time\n",
    "\n",
    "from rich.console import Console\n",
    "from rich.jupyter import print\n",
    "from rich.live import Live\n",
    "from rich.panel import Panel\n",
    "from rich.table import Table\n",
    "\n"
   ]
  },
  {
   "cell_type": "markdown",
   "metadata": {},
   "source": [
    "## Task 2a. Markdown Script (2 points)\n",
    "\n",
    "Markdown is a lightweight markup language like HTML that is widely used in data science. Most of the tools that you will use (such as Jupyter notebook) will accept markdown based formatting. So a good data scientist will need to understand and write markdown.\n",
    "\n",
    "It is a very simple script. There are many tutorials online. Here is a [popular one](https://www.markdownguide.org/basic-syntax/). Once you learn the basics, write a markdown version that can reproduce the image below. \n",
    "\n",
    "There are a number of online markdown editors where you can get immediate feedback and rendering of your markdown text. I would recommend using something without WYSIWYG to get a feel of writing markdown. A popular example is [this site](https://markdownlivepreview.com/). In the future, you can use the powerful tools (such as within VS Code) that allows you to write markdown visually. \n",
    "\n",
    "Write the markdown code for this task in the cell below the image. This will be manually evaluated by the TAs.\n",
    "\n"
   ]
  },
  {
   "cell_type": "markdown",
   "metadata": {},
   "source": [
    "![Markdown](resources/t2a_markdown_rendering.png) "
   ]
  },
  {
   "cell_type": "markdown",
   "metadata": {},
   "source": [
    "# This is the top level header.\n",
    "---\n",
    "## This is the second level header.\n",
    "---\n",
    "This text contains **bold text.** It also has *italicized text*. It even has both ***bold and italic.***\n",
    "\n",
    "It even has a blockquote.\n",
    "> This is an example of blockquote.\n",
    ">\n",
    "> This blockquote has multiple paragraphs.\n",
    "This also has ordered lists.\n",
    "1. One\n",
    "2. Two\n",
    "3. Three\n",
    "4. Four\n",
    "\n",
    "It also has unordered lists.\n",
    "\n",
    "- First\n",
    "- Second\n",
    "- Third\n",
    "- Fourth\n",
    "\n",
    "It also simple `code` blocks using backticks.\n",
    "\n",
    "    import sys\n",
    "    print(sys.version)\n",
    "\n",
    "It also some links [www.google.com](www.google.com)."
   ]
  },
  {
   "cell_type": "code",
   "execution_count": null,
   "metadata": {},
   "outputs": [],
   "source": []
  },
  {
   "cell_type": "markdown",
   "metadata": {},
   "source": [
    "## Task 2b: Generating colorful output in Python and Notebooks using rich library\n",
    "\n",
    "Markdown provides one way of generating the output. Charts and visualizations provide another. Sometimes, it is necessary to generate eye-catching output in Python. There are many ways to do this. In this assignment, we will be using [rich](https://github.com/Textualize/rich) library. \n",
    "\n",
    "To see the capabilities, run the following command in the terminal.\n",
    "\n",
    "> rye run python -m rich\n",
    "\n"
   ]
  },
  {
   "cell_type": "markdown",
   "metadata": {},
   "source": [
    "### Task 2b1: Basic formatting, colors and Emojis (2 points)\n",
    "\n",
    "Generate the following figure using rich library. Note that my editor uses dark mode. No need to recreate the dark background. Just the formatting text is sufficient.\n",
    "\n",
    "The [Emoji Cheat Sheet](https://www.webfx.com/tools/emoji-cheat-sheet/) is a good resource for getting the Emoji shortcodes. It has a nifty feature that allows you to copy short codes when you click.\n",
    "\n",
    "![Markdown](resources/t2b1_rich_formatting.png) "
   ]
  },
  {
   "cell_type": "code",
   "execution_count": 4,
   "metadata": {},
   "outputs": [
    {
     "data": {
      "text/html": [
       "<pre style=\"white-space:pre;overflow-x:auto;line-height:normal;font-family:Menlo,'DejaVu Sans Mono',consolas,'Courier New',monospace\">Rich can do formatting: <span style=\"font-weight: bold\">bold</span>, <span style=\"font-style: italic\">italic</span>\n",
       "</pre>\n"
      ],
      "text/plain": [
       "Rich can do formatting: \u001b[1mbold\u001b[0m, \u001b[3mitalic\u001b[0m\n"
      ]
     },
     "metadata": {},
     "output_type": "display_data"
    },
    {
     "data": {
      "text/html": [
       "<pre style=\"white-space:pre;overflow-x:auto;line-height:normal;font-family:Menlo,'DejaVu Sans Mono',consolas,'Courier New',monospace\">Rich can show different colors: <span style=\"color: #800000; text-decoration-color: #800000\">RED</span>, <span style=\"color: #008000; text-decoration-color: #008000\">GREEN</span>, <span style=\"color: #000080; text-decoration-color: #000080\">BLUE</span> and many more\n",
       "</pre>\n"
      ],
      "text/plain": [
       "Rich can show different colors: \u001b[31mRED\u001b[0m, \u001b[32mGREEN\u001b[0m, \u001b[34mBLUE\u001b[0m and many more\n"
      ]
     },
     "metadata": {},
     "output_type": "display_data"
    },
    {
     "data": {
      "text/html": [
       "<pre style=\"white-space:pre;overflow-x:auto;line-height:normal;font-family:Menlo,'DejaVu Sans Mono',consolas,'Courier New',monospace\">You can even combine them to show a text in <span style=\"color: #800000; text-decoration-color: #800000; font-weight: bold\">bold red</span>\n",
       "</pre>\n"
      ],
      "text/plain": [
       "You can even combine them to show a text in \u001b[1;31mbold red\u001b[0m\n"
      ]
     },
     "metadata": {},
     "output_type": "display_data"
    },
    {
     "data": {
      "text/html": [
       "<pre style=\"white-space:pre;overflow-x:auto;line-height:normal;font-family:Menlo,'DejaVu Sans Mono',consolas,'Courier New',monospace\">You can print even Emojis! 😀 😉 🤫 😇\n",
       "</pre>\n"
      ],
      "text/plain": [
       "You can print even Emojis! 😀 😉 🤫 😇\n"
      ]
     },
     "metadata": {},
     "output_type": "display_data"
    }
   ],
   "source": [
    "\"Give your code for t2b1 here.\"\n",
    "from rich import print\n",
    "print(\"Rich can do formatting: [bold]bold[/bold], [italic]italic[/italic]\")\n",
    "print(\"Rich can show different colors: [red]RED[/red], [green]GREEN[/green], [blue]BLUE[/blue] and many more\")\n",
    "print(\"You can even combine them to show a text in [bold red]bold red[/bold red]\")\n",
    "print(\"You can print even Emojis! 😀 😉 🤫 😇\")"
   ]
  },
  {
   "cell_type": "markdown",
   "metadata": {},
   "source": [
    "### Task 2b2: Tables with Rich (2 points)\n",
    "\n",
    "Generate the following table using rich library. Note that my editor uses dark mode. No need to recreate the dark background. Just the formatting the table is sufficient. \n",
    "\n",
    "For the table, note that the title row has a different color (bold and magenta). The columns have colors cyan, magenta and green respectively. Note that you can set colors for columns directly instead of specifying it for each cell.\n",
    "\n",
    "![Tables](resources/t2b2_rich_tables.png) "
   ]
  },
  {
   "cell_type": "code",
   "execution_count": 5,
   "metadata": {},
   "outputs": [
    {
     "data": {
      "text/html": [
       "<pre style=\"white-space:pre;overflow-x:auto;line-height:normal;font-family:Menlo,'DejaVu Sans Mono',consolas,'Courier New',monospace\"><span style=\"font-style: italic\">         Table with Rich         </span>\n",
       "┏━━━━━━━━━┳━━━━━┳━━━━━━━━━━━━━━━┓\n",
       "┃<span style=\"color: #800080; text-decoration-color: #800080\"> Name    </span>┃<span style=\"color: #800080; text-decoration-color: #800080\"> Age </span>┃<span style=\"color: #800080; text-decoration-color: #800080\"> City          </span>┃\n",
       "┡━━━━━━━━━╇━━━━━╇━━━━━━━━━━━━━━━┩\n",
       "│<span style=\"color: #008080; text-decoration-color: #008080\"> Alice   </span>│<span style=\"color: #800080; text-decoration-color: #800080\"> 25  </span>│<span style=\"color: #008000; text-decoration-color: #008000\"> New York      </span>│\n",
       "│<span style=\"color: #008080; text-decoration-color: #008080\"> Bob     </span>│<span style=\"color: #800080; text-decoration-color: #800080\"> 30  </span>│<span style=\"color: #008000; text-decoration-color: #008000\"> San Francisco </span>│\n",
       "│<span style=\"color: #008080; text-decoration-color: #008080\"> Charlie </span>│<span style=\"color: #800080; text-decoration-color: #800080\"> 35  </span>│<span style=\"color: #008000; text-decoration-color: #008000\"> London        </span>│\n",
       "└─────────┴─────┴───────────────┘\n",
       "</pre>\n"
      ],
      "text/plain": [
       "\u001b[3m         Table with Rich         \u001b[0m\n",
       "┏━━━━━━━━━┳━━━━━┳━━━━━━━━━━━━━━━┓\n",
       "┃\u001b[35m \u001b[0m\u001b[35mName   \u001b[0m\u001b[35m \u001b[0m┃\u001b[35m \u001b[0m\u001b[35mAge\u001b[0m\u001b[35m \u001b[0m┃\u001b[35m \u001b[0m\u001b[35mCity         \u001b[0m\u001b[35m \u001b[0m┃\n",
       "┡━━━━━━━━━╇━━━━━╇━━━━━━━━━━━━━━━┩\n",
       "│\u001b[36m \u001b[0m\u001b[36mAlice  \u001b[0m\u001b[36m \u001b[0m│\u001b[35m \u001b[0m\u001b[35m25 \u001b[0m\u001b[35m \u001b[0m│\u001b[32m \u001b[0m\u001b[32mNew York     \u001b[0m\u001b[32m \u001b[0m│\n",
       "│\u001b[36m \u001b[0m\u001b[36mBob    \u001b[0m\u001b[36m \u001b[0m│\u001b[35m \u001b[0m\u001b[35m30 \u001b[0m\u001b[35m \u001b[0m│\u001b[32m \u001b[0m\u001b[32mSan Francisco\u001b[0m\u001b[32m \u001b[0m│\n",
       "│\u001b[36m \u001b[0m\u001b[36mCharlie\u001b[0m\u001b[36m \u001b[0m│\u001b[35m \u001b[0m\u001b[35m35 \u001b[0m\u001b[35m \u001b[0m│\u001b[32m \u001b[0m\u001b[32mLondon       \u001b[0m\u001b[32m \u001b[0m│\n",
       "└─────────┴─────┴───────────────┘\n"
      ]
     },
     "execution_count": 5,
     "metadata": {},
     "output_type": "execute_result"
    }
   ],
   "source": [
    "\"Give your code for t2b2 here.\"\n",
    "from rich.table import Table\n",
    "\n",
    "table = Table(title=\"Table with Rich\")\n",
    "table.header_style = \"Magenta\"\n",
    "table.add_column(\"Name\", style=\"Cyan\"); table.add_column(\"Age\", style=\"Magenta\"); table.add_column(\"City\", style=\"Green\")\n",
    "\n",
    "table.add_row(\"Alice\", \"25\", \"New York\")\n",
    "table.add_row(\"Bob\", \"30\", \"San Francisco\")\n",
    "table.add_row(\"Charlie\", \"35\", \"London\")\n",
    "\n",
    "table"
   ]
  },
  {
   "cell_type": "markdown",
   "metadata": {},
   "source": [
    "### Task 2b3: Panels with Rich (2 points)\n",
    "\n",
    "Generate the following Panel using rich library. Note that my editor uses dark mode. No need to recreate the dark background. Just the formatting is sufficient. \n",
    "\n",
    "Couple of subtleties to note. The panel only does not scale to the entire screen (hint: check the expand parameter). Plus it also has some title, subtitles, emojis and coloring. \n",
    "\n",
    "\n",
    "![Panels](resources/t2b3_rich_panel.png) "
   ]
  },
  {
   "cell_type": "code",
   "execution_count": 6,
   "metadata": {},
   "outputs": [
    {
     "data": {
      "text/html": [
       "<pre style=\"white-space:pre;overflow-x:auto;line-height:normal;font-family:Menlo,'DejaVu Sans Mono',consolas,'Courier New',monospace\">╭────────────────── Data Mining ──────────────────╮\n",
       "│ Hello, <span style=\"color: #800000; text-decoration-color: #800000\">World!</span>. I can do cool stuff in Python 😀 |\n",
       "╰───────────────────── Rocks ─────────────────────╯\n",
       "</pre>\n"
      ],
      "text/plain": [
       "╭────────────────── Data Mining ──────────────────╮\n",
       "│ Hello, \u001b[31mWorld!\u001b[0m. I can do cool stuff in Python 😀 |\n",
       "╰───────────────────── Rocks ─────────────────────╯\n"
      ]
     },
     "metadata": {},
     "output_type": "display_data"
    }
   ],
   "source": [
    "\"Give your code for t2b3 here.\"\n",
    "from rich.panel import Panel\n",
    "\n",
    "text = \"Hello, [red]World![/red]. I can do cool stuff in Python 😀\"\n",
    "panel = Panel(text)\n",
    "panel.box.mid_right = \"|\"\n",
    "panel.expand = False\n",
    "panel.title = \"Data Mining\"\n",
    "panel.subtitle = \"Rocks\"\n",
    "\n",
    "print(panel)"
   ]
  },
  {
   "cell_type": "markdown",
   "metadata": {},
   "source": [
    "### Task 2b4: Live Display with Rich (2 points)\n",
    "\n",
    "The next sub task is based on Live display component of rich. This is an extremely powerful tool. We will do a simple task of doing a live display of stock prices. \n",
    "\n",
    "A sample video of the expected output can be found [here](https://www.dropbox.com/scl/fi/sl6vf2tigg6orku4pliby/t2live_display.mov?rlkey=gvip9rwip2wr74hhgta0gcl17&dl=0).\n",
    "\n",
    "Intuitively, generate a random price for each stock and update them live. For simplicity, you can compute both the stock price and change as uniform random variables (see random.uniform function). In other words, there is no need to store the historical stock price and compute accurate delta percentage difference.\n",
    "\n",
    "Repeat this process for 10 seconds where the table is updated 20 times with a time delay of 0.5 seconds each. \n",
    "\n",
    "Hint: You should use the update function so that the entire live display is refreshed. "
   ]
  },
  {
   "cell_type": "code",
   "execution_count": 17,
   "metadata": {},
   "outputs": [
    {
     "data": {
      "application/vnd.jupyter.widget-view+json": {
       "model_id": "efe960653c2940d0b1dd3b8156bea3ea",
       "version_major": 2,
       "version_minor": 0
      },
      "text/plain": [
       "Output()"
      ]
     },
     "metadata": {},
     "output_type": "display_data"
    },
    {
     "data": {
      "text/html": [
       "<pre style=\"white-space:pre;overflow-x:auto;line-height:normal;font-family:Menlo,'DejaVu Sans Mono',consolas,'Courier New',monospace\"></pre>\n"
      ],
      "text/plain": []
     },
     "metadata": {},
     "output_type": "display_data"
    }
   ],
   "source": [
    "from copy import deepcopy\n",
    "prev_stock = None\n",
    "def t2b4_generate_table() -> Table:\n",
    "    global prev_stock\n",
    "    \"\"\"Generate a table with random stock data.\"\"\"\n",
    "    table = Table(title=\"Stock Prices\")\n",
    "    table.add_column(\"Stock\",style=\"Cyan\"), table.add_column(\"Price\", style=\"Magenta\"), table.add_column(\"Change\", style=\"Green\")\n",
    "\n",
    "    stocks = {\n",
    "        \"AAPL\": 100+random.random()*20,\n",
    "        \"GOOGL\": 200+random.random()*10,\n",
    "        \"MSFT\": 400+random.random()*30,\n",
    "        \"AMZN\": 300+random.random()*40,\n",
    "    }\n",
    "    if prev_stock == None:\n",
    "        change = {\n",
    "            \"AAPL\": 0,\n",
    "            \"GOOGL\": 0,\n",
    "            \"MSFT\": 0,\n",
    "            \"AMZN\": 0,\n",
    "        }\n",
    "        prev_stock = deepcopy(stocks)\n",
    "    else:\n",
    "        change = {}\n",
    "        for com in stocks:\n",
    "            ch = 100*(stocks[com]-prev_stock[com])/prev_stock[com]\n",
    "            change[com] = ch\n",
    "        prev_stock = deepcopy(stocks)\n",
    "        \n",
    "    for com in stocks:\n",
    "        table.add_row(com, f\"${stocks[com]}\", f\"{change[com]}%\")\n",
    "    return table\n",
    "\n",
    "\n",
    "with Live(t2b4_generate_table(), refresh_per_second=2) as live:\n",
    "    for _ in range(20):\n",
    "        time.sleep(0.5)\n",
    "        live.update(t2b4_generate_table())\n",
    "\n"
   ]
  },
  {
   "cell_type": "markdown",
   "metadata": {},
   "source": [
    "## Configuration Formats for Data Science\n",
    "\n",
    "The data science ecosystem is vast. There are thousands of packages written in many languages. So, it is imperative that there exists common formats for these diverse packages to communicate with each other. Intuitively, there are two things to communicate: configs and data. \n",
    "\n",
    "We will discuss common data file formats in the next assignment. In this assignment we will focus on ways to communicate configs. There are three common file formats: \n",
    "\n",
    "1. JSON: JavaScript Object Notation. A basic tutorial is [here](https://developer.mozilla.org/en-US/docs/Learn/JavaScript/Objects/JSON)\n",
    "2. TOML: Tom’s Obvious Minimal Language : A basic tutorial is [here](https://realpython.com/python311-tomllib/)\n",
    "3. YAML: YAML Ain't Markup Language : A basic tutorial is [here](https://spacelift.io/blog/yaml)\n",
    "\n",
    "We will discuss JSON in more detail in next assignment. In this assignment, we will focus on TOML and YAML. "
   ]
  },
  {
   "cell_type": "markdown",
   "metadata": {},
   "source": [
    "## Task 2c. Fun with TOML (5 points)\n",
    "\n",
    "TOML is a powerful language and becoming widely used especially in the Python ecosystem. Most of the important libraries are using TOML to share their configurations. For example, pyproject.toml that we used for customizing the setup is a TOML file. An indication of its importance is the fact that Python provides mechanisms to work with TOML as part of its standard library. So, the importance of TOML is only going to increase from hereon. So it is essential that a budding data scientist is fluent with TOML. \n",
    "\n",
    "You can use the link above to learn about TOML. It is a reasonably good intro to TOML. Usually, you will only need to parse a TOML file. So tomllib does not provide a way to dump a TOML string. \n",
    "\n",
    "I have found that a good way to learn a markup language is to write a translator. So we will build a translator that takes Python dictionary as input and outputs TOML. \n",
    "\n",
    "TOML supports lot of data types. For this assignment, let us limit ourselves where the scalars are integers and strings. We will support lists and dictionaries as complex entities where the values will be either integers, strings or lists and dictionaries (ie nested data structures). \n",
    "\n",
    "Please update the function `t2c_python_dict_to_toml_string` in `t2_tasks.py` with your code. We provide two simple dictionaries to test your code -- `t2c_simple_dict` and `t2c_complex_dict`. \n",
    "\n",
    "You can test your code by running rye with the pytest marker `t2c`\n",
    "\n",
    "> rye test -- -m t2c\n",
    "\n",
    "It goes without saying that you cannot use any existing TOML library and call its dumps function. During grading, the TAs will have a custom pyproject.toml that will not include such libraries :)\n",
    "\n",
    "Similarly, the TAs grading code will contain additional private test cases that is not much more complex than the two given here."
   ]
  },
  {
   "cell_type": "markdown",
   "metadata": {},
   "source": [
    "## Task 2d. Fun with YAML (5 points)\n",
    "\n",
    "YAML is another popular format. Most of the deep learning packages allow customization via YAML. It is (slightly) less powerful than TOML but still widely used in ML as it came before it. So it is imperative for data scientists to know YAML. \n",
    "\n",
    "You can use the link above to learn about YAML.   As before, we will build a translator that takes Python dictionary as input and outputs YAML. \n",
    "\n",
    "YAML supports lot of data types. For this assignment, let us limit ourselves where the scalars are integers and strings. We will support lists and dictionaries as complex entities where the values will be either integers, strings or lists and dictionaries (ie nested data structures). \n",
    "\n",
    "Please update the function `t2d_python_dict_to_yaml_string` in `t2_tasks.py` with your code. We provide two simple dictionaries to test your code -- `t2_simple_dict` and `t2_complex_dict`. \n",
    "\n",
    "You can test your code by running rye with the pytest marker `t2d`\n",
    "\n",
    "> rye test -- -m t2d\n",
    "\n",
    "It goes without saying that you cannot use any existing YAML library and call its dumps function. During grading, the TAs will have a custom pyproject.toml that will not include such libraries :)\n",
    "\n",
    "Similarly, the TAs grading code will contain additional private test cases that is not much more complex than the two given here."
   ]
  }
 ],
 "metadata": {
  "kernelspec": {
   "display_name": ".venv",
   "language": "python",
   "name": "python3"
  },
  "language_info": {
   "codemirror_mode": {
    "name": "ipython",
    "version": 3
   },
   "file_extension": ".py",
   "mimetype": "text/x-python",
   "name": "python",
   "nbconvert_exporter": "python",
   "pygments_lexer": "ipython3",
   "version": "3.12.5"
  }
 },
 "nbformat": 4,
 "nbformat_minor": 2
}
